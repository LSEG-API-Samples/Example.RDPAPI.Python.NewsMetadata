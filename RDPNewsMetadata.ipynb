{
 "cells": [
  {
   "cell_type": "markdown",
   "metadata": {},
   "source": [
    "### Read Credentials "
   ]
  },
  {
   "cell_type": "code",
   "execution_count": null,
   "metadata": {},
   "outputs": [],
   "source": [
    "import requests, json, time, getopt, sys\n",
    "\n",
    "# User Variables\n",
    "credFile = open(\"..\\creds\\credFileHuman.txt\",\"r\")    # one per line\n",
    "                                                #--- RDP MACHINE ID---\n",
    "                                                #--- LONG PASSWORD---\n",
    "                                                #--- GENERATED CLIENT ID---\n",
    "\n",
    "USERNAME = credFile.readline().rstrip('\\n')\n",
    "PASSWORD = credFile.readline().rstrip('\\n')\n",
    "CLIENT_ID = credFile.readline().rstrip('\\n')\n",
    "\n",
    "credFile.close()\n",
    "\n",
    "# Make sure that creds are read in\n",
    "#print(\"USERNAME=\"+str(USERNAME))\n",
    "#print(\"PASSWORD=\"+str(PASSWORD))\n",
    "#print(\"CLIENT_ID=\"+str(CLIENT_ID))"
   ]
  },
  {
   "cell_type": "markdown",
   "metadata": {},
   "source": [
    "### Define Token Endpoint "
   ]
  },
  {
   "cell_type": "code",
   "execution_count": null,
   "metadata": {},
   "outputs": [],
   "source": [
    "# Application Constants\n",
    "RDP_version = \"/v1\"\n",
    "base_URL = \"https://api.refinitiv.com\"\n",
    "category_URL = \"/auth/oauth2\"\n",
    "endpoint_URL = \"/token\"\n",
    "CLIENT_SECRET = \"\"\n",
    "TOKEN_FILE = \"token.txt\"\n",
    "SCOPE = \"trapi\"\n",
    "\n",
    "TOKEN_ENDPOINT = base_URL + category_URL + RDP_version + endpoint_URL"
   ]
  },
  {
   "cell_type": "code",
   "execution_count": null,
   "metadata": {},
   "outputs": [],
   "source": [
    "def _requestNewToken(refreshToken):\n",
    "    if refreshToken is None:\n",
    "        tData = {\n",
    "            \"username\": USERNAME,\n",
    "            \"password\": PASSWORD,\n",
    "            \"grant_type\": \"password\",\n",
    "            \"scope\": SCOPE,\n",
    "            \"takeExclusiveSignOnControl\": \"true\"\n",
    "        };\n",
    "    else:\n",
    "        tData = {\n",
    "            \"refresh_token\": refreshToken,\n",
    "            \"grant_type\": \"refresh_token\",\n",
    "        };\n",
    "\n",
    "    # Make a REST call to get latest access token\n",
    "    response = requests.post(\n",
    "        TOKEN_ENDPOINT,\n",
    "        headers = {\n",
    "            \"Accept\": \"application/json\"\n",
    "        },\n",
    "        data = tData,\n",
    "        auth = (\n",
    "            CLIENT_ID,\n",
    "            CLIENT_SECRET\n",
    "        )\n",
    "    )\n",
    "    \n",
    "    if response.status_code != 200:\n",
    "        raise Exception(\"Failed to get access token {0} - {1}\".format(response.status_code, response.text));\n",
    "\n",
    "    # Return the new token\n",
    "    return json.loads(response.text);"
   ]
  },
  {
   "cell_type": "code",
   "execution_count": null,
   "metadata": {},
   "outputs": [],
   "source": [
    "def saveToken(tknObject):\n",
    "    tf = open(TOKEN_FILE, \"w+\");\n",
    "    print(\"Saving the new token\");\n",
    "    # Append the expiry time to token\n",
    "    tknObject[\"expiry_tm\"] = time.time() + int(tknObject[\"expires_in\"]) - 10;\n",
    "    # Store it in the file\n",
    "    json.dump(tknObject, tf, indent=4)\n"
   ]
  },
  {
   "cell_type": "code",
   "execution_count": null,
   "metadata": {},
   "outputs": [],
   "source": [
    "def getToken():\n",
    "    try:\n",
    "        print(\"Reading the token from: \" + TOKEN_FILE);\n",
    "        # Read the token from a file\n",
    "        tf = open(TOKEN_FILE, \"r+\")\n",
    "        tknObject = json.load(tf);\n",
    "\n",
    "        # Is access token valid\n",
    "        if tknObject[\"expiry_tm\"] > time.time():\n",
    "            # return access token\n",
    "            return tknObject[\"access_token\"];\n",
    "\n",
    "        print(\"Token expired, refreshing a new one...\");\n",
    "        tf.close();\n",
    "        # Get a new token from refresh token\n",
    "        tknObject = _requestNewToken(tknObject[\"refresh_token\"]);\n",
    "\n",
    "    except Exception as exp:\n",
    "        print(\"Caught exception: \" + str(exp))\n",
    "        print(\"Getting a new token using Password Grant...\");\n",
    "        tknObject = _requestNewToken(None);\n",
    "\n",
    "    # Persist this token for future queries\n",
    "    saveToken(tknObject)\n",
    "    print(\"Token is: \" + tknObject[\"access_token\"])\n",
    "    # Return access token\n",
    "    return tknObject[\"access_token\"];"
   ]
  },
  {
   "cell_type": "markdown",
   "metadata": {},
   "source": [
    "### Obtain Valid Token "
   ]
  },
  {
   "cell_type": "code",
   "execution_count": null,
   "metadata": {},
   "outputs": [],
   "source": [
    "accessToken = getToken();\n",
    "print(\"Have token now\");"
   ]
  },
  {
   "cell_type": "markdown",
   "metadata": {},
   "source": [
    "### Request All News Metadata (Paginate)"
   ]
  },
  {
   "cell_type": "code",
   "execution_count": null,
   "metadata": {
    "scrolled": true
   },
   "outputs": [],
   "source": [
    "news_category_URL = \"/data/news\"\n",
    "newsmeta_endpoint_URL = \"/metadata\"\n",
    "news_param1 = \"?limit=\"\n",
    "meta_step_size = 100  # 100 is max allowed at this time\n",
    "news_param2 = \"?cursor=\" \n",
    "NEWS_ENDPOINT = base_URL + news_category_URL + RDP_version + newsmeta_endpoint_URL \n",
    "NEWS_META_FILE = \"newsMetadata.txt\"\n",
    "\n",
    "REQUEST_URL = NEWS_ENDPOINT + news_param1+str(meta_step_size)\n",
    "moreExists = True\n",
    "count = 0;\n",
    "    \n",
    "while moreExists:\n",
    "    print(\"Requesting: \",REQUEST_URL)\n",
    "    dResp = requests.get(REQUEST_URL, headers = {\"Authorization\": \"Bearer \" + accessToken});\n",
    "    if dResp.status_code != 200:\n",
    "        print(\"Unable to get data. Code %s, Message: %s\" % (dResp.status_code, dResp.text));\n",
    "        if dResp.status_code != 401:   # error other then token expired\n",
    "            break \n",
    "        accessToken = getToken();     # token refresh on token expired\n",
    "    else:\n",
    "        print(\"Resource access successful\")\n",
    "        # Display data\n",
    "        jResp = json.loads(dResp.text);\n",
    "        print(json.dumps(jResp, indent=2));\n",
    "\n",
    "        if not \"next\" in jResp[\"meta\"]: \n",
    "            print(\"<<Reached the end of paged Metadata >>\")\n",
    "            moreExists = False\n",
    "            count += len(jResp[\"data\"])\n",
    "        elif not jResp[\"meta\"][\"next\"]:\n",
    "            print(\"<<Reached the end of paged Metadata >>\")\n",
    "            moreExists = False\n",
    "            count += len(jResp[\"data\"])\n",
    "        else:\n",
    "            REQUEST_URL = NEWS_ENDPOINT + news_param2 + jResp[\"meta\"][\"next\"]\n",
    "            count +=  100\n",
    "print(\"Completed with: \" + str(count))\n",
    "    \n"
   ]
  },
  {
   "cell_type": "markdown",
   "metadata": {},
   "source": [
    "### Request News Metadata "
   ]
  },
  {
   "cell_type": "code",
   "execution_count": null,
   "metadata": {
    "scrolled": true
   },
   "outputs": [],
   "source": [
    "news_category_URL = \"/data/news\"\n",
    "newsmeta_endpoint_URL = \"/metadata\"\n",
    "news_param1 = \"?limit=100\"\n",
    "NEWS_ENDPOINT = base_URL + news_category_URL + RDP_version + newsmeta_endpoint_URL \n",
    "NEWS_META_FILE = \"newsMetadata.txt\"\n",
    "\n",
    "nodesWithParents = []\n",
    "nodesWithoutParents = []\n",
    "\n",
    "#print(\"NEWS_ENDPOINT=\" + NEWS_ENDPOINT)\n",
    "\n",
    "dResp = requests.get(NEWS_ENDPOINT + news_param1 , headers = {\"Authorization\": \"Bearer \" + accessToken});\n",
    "\n",
    "if dResp.status_code != 200:\n",
    "    print(\"Unable to get data. Code %s, Message: %s\" % (dResp.status_code, dResp.text));\n",
    "    if dResp.status_code == 401:   # error token expired\n",
    "        accessToken = getToken();     # token refresh on token expired\n",
    "        dResp = requests.get(NEWS_ENDPOINT + news_param1 , headers = {\"Authorization\": \"Bearer \" + accessToken});\n",
    "else:\n",
    "    print(\"Resource access successful\")\n",
    "    # Display data\n",
    "    jResp = json.loads(dResp.text);\n",
    "    print(json.dumps(jResp, indent=2));\n"
   ]
  },
  {
   "cell_type": "markdown",
   "metadata": {},
   "source": [
    "### Request Children and Re-Categorize With Parent Information"
   ]
  },
  {
   "cell_type": "code",
   "execution_count": null,
   "metadata": {},
   "outputs": [],
   "source": [
    "def processWithChildren(dResp, jResp, parentId):\n",
    "    news_param2 = \"/children?offset=\"\n",
    "    step_size = 100 # 100 is max allowed at the time of this writing\n",
    "    news_param3 = \"&limit=\"+str(step_size)  \n",
    "    global accessToken\n",
    "    \n",
    "    if dResp.status_code == 200:\n",
    "        for node in jResp['data']: \n",
    "            nodeIsFirstSeen = True\n",
    "            if parentId != '':\n",
    "                node['parentId'] = parentId \n",
    "                if node not in nodesWithParents:\n",
    "                    nodesWithParents.append(node)\n",
    " #                   print(\"*** id= \" + str(node.get('id')) + \"nodesWithParents.append\" )\n",
    "                else :\n",
    "                    nodeIsFirstSeen = False\n",
    "            else:\n",
    "                if not any(nd.get('id') == node.get('id') for nd in nodesWithParents) and node not in nodesWithoutParents:\n",
    "                    nodesWithoutParents.append(node)\n",
    "  #                  print(\"*** id= \" + str(node.get('id')) + \"nodesWithoutParents.append\")\n",
    "                else :\n",
    "                    nodeIsFirstSeen = False\n",
    "            # keep track of the processing progress\n",
    "            if nodeIsFirstSeen == True and ((len(nodesWithParents) + len(nodesWithoutParents)) % 200) == 0:\n",
    "                print(\"***************Inserted \"+ str((len(nodesWithParents) + len(nodesWithoutParents))))\n",
    "            childrenOfThisNode = node.get('childrenCount')\n",
    " #           print(\"^^^^^^^^^^^^^^^^^^ children=\"+ str(childrenOfThisNode))\n",
    "            if nodeIsFirstSeen == True and childrenOfThisNode != 0:\n",
    "                start = 0; nextExists = True;\n",
    "                while nextExists and start <= node.get('childrenCount'):\n",
    "                    nextExists = True;\n",
    "                    print(\"*in node %s with childrenCount %s at offset %s \" % (node.get('id'),node.get('childrenCount'), str(start)))\n",
    "                    dChildrenResp = requests.get(NEWS_ENDPOINT + \"/\" + str(node.get('id')) + news_param2 + str(start) + news_param3, headers = {\"Authorization\": \"Bearer \" + accessToken});\n",
    "\n",
    "                    if dChildrenResp.status_code != 200:\n",
    "                        print(\"Unable to get children data. Code %s, Message: %s, in node %s with childrenCount %s at offset %s\" % (dChildrenResp.status_code, dChildrenResp.text, \n",
    "                                                                                                                       node.get('id'),node.get('childrenCount'), str(start)));\n",
    "                        if dChildrenResp.status_code != 401:   # error other then token expired\n",
    "                            break \n",
    "                        accessToken = getToken();     # token refresh on token expired\n",
    "                        dChildrenResp = requests.get(NEWS_ENDPOINT + \"/\" + str(node.get('id')) + news_param2 + str(start) + news_param3, headers = {\"Authorization\": \"Bearer \" + accessToken});\n",
    "                                    \n",
    "                    jCResp = json.loads(dChildrenResp.text);\n",
    "                    processWithChildren(dChildrenResp, jCResp, node.get('id'))\n",
    "                    \n",
    "                    if not \"next\" in jCResp[\"meta\"]: \n",
    "#                        print(\"*next = False\");\n",
    "                        nextExists = False;\n",
    "                    else:\n",
    "                        print(\"*in node %s next is not False \" % (node.get('id')))\n",
    "                        start = start + step_size\n"
   ]
  },
  {
   "cell_type": "code",
   "execution_count": null,
   "metadata": {
    "scrolled": true
   },
   "outputs": [],
   "source": [
    "processWithChildren(dResp, jResp,'')"
   ]
  },
  {
   "cell_type": "markdown",
   "metadata": {},
   "source": [
    "### Request Next on News Metadata and (optionally) Save to File"
   ]
  },
  {
   "cell_type": "code",
   "execution_count": null,
   "metadata": {
    "scrolled": true
   },
   "outputs": [],
   "source": [
    "nf = open(NEWS_META_FILE, \"w+\"); #DBG \n",
    "nf.write(json.dumps(jResp, indent=2)) #DBG \n",
    "    \n",
    "#print(\"Next= \" + jResp[\"meta\"][\"next\"])\n",
    "\n",
    "news_param2 = \"?cursor=\" \n",
    "while jResp[\"meta\"][\"next\"]:   #not empty\n",
    "    print(\"Next= \" + jResp[\"meta\"][\"next\"])\n",
    "    dResp = requests.get(NEWS_ENDPOINT + news_param2 + jResp[\"meta\"][\"next\"] , headers = {\"Authorization\": \"Bearer \" + accessToken});\n",
    "\n",
    "    if dResp.status_code != 200:   #\n",
    "        print(\"Unable to get data. Code %s, Message: %s\" % (dResp.status_code, dResp.text));\n",
    "        if dResp.status_code != 401:   # error other then token expired\n",
    "            break \n",
    "        accessToken = getToken();     # token refresh on token expired\n",
    "        dResp = requests.get(NEWS_ENDPOINT + news_param2 + jResp[\"meta\"][\"next\"] , headers = {\"Authorization\": \"Bearer \" + accessToken});\n",
    "            \n",
    "    print(\"Resource access successful\")\n",
    "    # Display data\n",
    "    jResp = json.loads(dResp.text);\n",
    "#    print(json.dumps(jResp, indent=2));\n",
    "    processWithChildren(dResp, jResp,'')\n",
    "        \n",
    "    nf.write(json.dumps(jResp, indent=2)) #DBG\n",
    "nf.close()  #DBG\n",
    "\n",
    "print(\"<<<<<<<<<<<<<<<<<<<<<<<<<<<<<<DONE child processing >>>>>>>>>>>>>>>>>>>>>>>>>>\")"
   ]
  },
  {
   "cell_type": "markdown",
   "metadata": {},
   "source": [
    "### Process into Tree Form"
   ]
  },
  {
   "cell_type": "code",
   "execution_count": null,
   "metadata": {
    "scrolled": true
   },
   "outputs": [],
   "source": [
    "from anytree import Node, RenderTree\n",
    "\n",
    "# keeping track of the progress prior to removing a few duplicates\n",
    "print(\"nodesWithoutParents length=\" + str(len(nodesWithoutParents)) + \", nodesWithParents length=\" + str(len(nodesWithParents)))\n",
    "    \n",
    "for node in nodesWithoutParents:\n",
    "    node['treenode'] = Node(node.get('id')) \n",
    "    \n",
    "for node in nodesWithParents:\n",
    "    node['treenode'] = Node(node.get('id')) \n",
    "    \n",
    "for node in nodesWithParents:\n",
    "    found = False\n",
    "    for nWithp in nodesWithParents:\n",
    "        if node.get('parentId') == nWithp.get('id'):\n",
    "            node['treenode'].parent = nWithp.get('treenode')  \n",
    "            found = True\n",
    "            break\n",
    "    if not found:\n",
    "        for nWithoutp in nodesWithoutParents:\n",
    "            if node.get('parentId') == nWithoutp.get('id'):\n",
    "                node['treenode'].parent = nWithoutp.get('treenode')  \n",
    "                found = True\n",
    "                break\n",
    "    if not found:\n",
    "        node['treenode'] = Node(node.get('id'))\n",
    "        print(\"ORPHAN ? \" + node.get('id'))\n",
    "        \n",
    "# check for top-levels that are not really top level, just happened to be first\n",
    "for index, node in enumerate(nodesWithoutParents):\n",
    "    if any(nd.get('id') == node.get('id') for nd in nodesWithParents):\n",
    "#        remove mislabeled top-level        \n",
    "        nodesWithoutParents.remove(node) \n",
    "#        print(\"Mislabeled empty top-level removed\"+ str(node))\n",
    "        \n",
    "for node in nodesWithoutParents:\n",
    "    print(RenderTree(node.get('treenode')))    "
   ]
  }
 ],
 "metadata": {
  "kernelspec": {
   "display_name": "Python 3",
   "language": "python",
   "name": "python3"
  },
  "language_info": {
   "codemirror_mode": {
    "name": "ipython",
    "version": 3
   },
   "file_extension": ".py",
   "mimetype": "text/x-python",
   "name": "python",
   "nbconvert_exporter": "python",
   "pygments_lexer": "ipython3",
   "version": "3.8.5"
  }
 },
 "nbformat": 4,
 "nbformat_minor": 4
}
